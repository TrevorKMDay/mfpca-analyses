{
 "cells": [
  {
   "cell_type": "markdown",
   "metadata": {},
   "source": [
    "Updated mutual information/ conditional mutual information results\n",
    "\n",
    "To discuss:\n",
    "- calculate coverage probabilities for true zero mutual information (can never cover due to lower bound of zero);\n",
    "- no need of normalized mutual information?\n",
    "- use median instead of mean?\n",
    "\n",
    "Comments based on 1000 replicated simulations:\n",
    "- v1: all zero true MIs (how to calculate coverage prob properly)\n",
    "- v2: some zeros + 95\\% coverage prob for all else\n",
    "- v3: MI/norm_MI_12 91\\%, the rest ~ 95\\% (previous results all good -- because all CMIs)\n",
    "- v3: all good\n",
    "- low covariance/mutual information cases are more challenging"
   ]
  },
  {
   "cell_type": "code",
   "execution_count": 1,
   "metadata": {},
   "outputs": [],
   "source": [
    "source('../mfpca_sim_summary.R')"
   ]
  },
  {
   "cell_type": "code",
   "execution_count": 2,
   "metadata": {},
   "outputs": [
    {
     "data": {
      "text/html": [
       "<table>\n",
       "<caption>A data.frame: 12 × 5</caption>\n",
       "<thead>\n",
       "\t<tr><th></th><th scope=col>Truth</th><th scope=col>Median</th><th scope=col>Q025</th><th scope=col>Q975</th><th scope=col>Cov_prob</th></tr>\n",
       "\t<tr><th></th><th scope=col>&lt;dbl&gt;</th><th scope=col>&lt;dbl&gt;</th><th scope=col>&lt;dbl&gt;</th><th scope=col>&lt;dbl&gt;</th><th scope=col>&lt;dbl&gt;</th></tr>\n",
       "</thead>\n",
       "<tbody>\n",
       "\t<tr><th scope=row>MI_12</th><td>0</td><td>0.036</td><td>0.007</td><td>0.098</td><td>1</td></tr>\n",
       "\t<tr><th scope=row>MI_13</th><td>0</td><td>0.016</td><td>0.001</td><td>0.064</td><td>1</td></tr>\n",
       "\t<tr><th scope=row>MI_23</th><td>0</td><td>0.017</td><td>0.001</td><td>0.066</td><td>1</td></tr>\n",
       "\t<tr><th scope=row>CMI_12</th><td>0</td><td>0.036</td><td>0.007</td><td>0.098</td><td>1</td></tr>\n",
       "\t<tr><th scope=row>CMI_13</th><td>0</td><td>0.017</td><td>0.001</td><td>0.064</td><td>1</td></tr>\n",
       "\t<tr><th scope=row>CMI_23</th><td>0</td><td>0.017</td><td>0.001</td><td>0.065</td><td>1</td></tr>\n",
       "\t<tr><th scope=row>norm_MI_12</th><td>0</td><td>0.260</td><td>0.113</td><td>0.419</td><td>1</td></tr>\n",
       "\t<tr><th scope=row>norm_MI_13</th><td>0</td><td>0.173</td><td>0.041</td><td>0.342</td><td>1</td></tr>\n",
       "\t<tr><th scope=row>norm_MI_23</th><td>0</td><td>0.175</td><td>0.041</td><td>0.346</td><td>1</td></tr>\n",
       "\t<tr><th scope=row>norm_CMI_12</th><td>0</td><td>0.260</td><td>0.114</td><td>0.418</td><td>1</td></tr>\n",
       "\t<tr><th scope=row>norm_CMI_13</th><td>0</td><td>0.173</td><td>0.041</td><td>0.341</td><td>1</td></tr>\n",
       "\t<tr><th scope=row>norm_CMI_23</th><td>0</td><td>0.175</td><td>0.042</td><td>0.345</td><td>1</td></tr>\n",
       "</tbody>\n",
       "</table>\n"
      ],
      "text/latex": [
       "A data.frame: 12 × 5\n",
       "\\begin{tabular}{r|lllll}\n",
       "  & Truth & Median & Q025 & Q975 & Cov\\_prob\\\\\n",
       "  & <dbl> & <dbl> & <dbl> & <dbl> & <dbl>\\\\\n",
       "\\hline\n",
       "\tMI\\_12 & 0 & 0.036 & 0.007 & 0.098 & 1\\\\\n",
       "\tMI\\_13 & 0 & 0.016 & 0.001 & 0.064 & 1\\\\\n",
       "\tMI\\_23 & 0 & 0.017 & 0.001 & 0.066 & 1\\\\\n",
       "\tCMI\\_12 & 0 & 0.036 & 0.007 & 0.098 & 1\\\\\n",
       "\tCMI\\_13 & 0 & 0.017 & 0.001 & 0.064 & 1\\\\\n",
       "\tCMI\\_23 & 0 & 0.017 & 0.001 & 0.065 & 1\\\\\n",
       "\tnorm\\_MI\\_12 & 0 & 0.260 & 0.113 & 0.419 & 1\\\\\n",
       "\tnorm\\_MI\\_13 & 0 & 0.173 & 0.041 & 0.342 & 1\\\\\n",
       "\tnorm\\_MI\\_23 & 0 & 0.175 & 0.041 & 0.346 & 1\\\\\n",
       "\tnorm\\_CMI\\_12 & 0 & 0.260 & 0.114 & 0.418 & 1\\\\\n",
       "\tnorm\\_CMI\\_13 & 0 & 0.173 & 0.041 & 0.341 & 1\\\\\n",
       "\tnorm\\_CMI\\_23 & 0 & 0.175 & 0.042 & 0.345 & 1\\\\\n",
       "\\end{tabular}\n"
      ],
      "text/markdown": [
       "\n",
       "A data.frame: 12 × 5\n",
       "\n",
       "| <!--/--> | Truth &lt;dbl&gt; | Median &lt;dbl&gt; | Q025 &lt;dbl&gt; | Q975 &lt;dbl&gt; | Cov_prob &lt;dbl&gt; |\n",
       "|---|---|---|---|---|---|\n",
       "| MI_12 | 0 | 0.036 | 0.007 | 0.098 | 1 |\n",
       "| MI_13 | 0 | 0.016 | 0.001 | 0.064 | 1 |\n",
       "| MI_23 | 0 | 0.017 | 0.001 | 0.066 | 1 |\n",
       "| CMI_12 | 0 | 0.036 | 0.007 | 0.098 | 1 |\n",
       "| CMI_13 | 0 | 0.017 | 0.001 | 0.064 | 1 |\n",
       "| CMI_23 | 0 | 0.017 | 0.001 | 0.065 | 1 |\n",
       "| norm_MI_12 | 0 | 0.260 | 0.113 | 0.419 | 1 |\n",
       "| norm_MI_13 | 0 | 0.173 | 0.041 | 0.342 | 1 |\n",
       "| norm_MI_23 | 0 | 0.175 | 0.041 | 0.346 | 1 |\n",
       "| norm_CMI_12 | 0 | 0.260 | 0.114 | 0.418 | 1 |\n",
       "| norm_CMI_13 | 0 | 0.173 | 0.041 | 0.341 | 1 |\n",
       "| norm_CMI_23 | 0 | 0.175 | 0.042 | 0.345 | 1 |\n",
       "\n"
      ],
      "text/plain": [
       "            Truth Median Q025  Q975  Cov_prob\n",
       "MI_12       0     0.036  0.007 0.098 1       \n",
       "MI_13       0     0.016  0.001 0.064 1       \n",
       "MI_23       0     0.017  0.001 0.066 1       \n",
       "CMI_12      0     0.036  0.007 0.098 1       \n",
       "CMI_13      0     0.017  0.001 0.064 1       \n",
       "CMI_23      0     0.017  0.001 0.065 1       \n",
       "norm_MI_12  0     0.260  0.113 0.419 1       \n",
       "norm_MI_13  0     0.173  0.041 0.342 1       \n",
       "norm_MI_23  0     0.175  0.041 0.346 1       \n",
       "norm_CMI_12 0     0.260  0.114 0.418 1       \n",
       "norm_CMI_13 0     0.173  0.041 0.341 1       \n",
       "norm_CMI_23 0     0.175  0.042 0.345 1       "
      ]
     },
     "metadata": {},
     "output_type": "display_data"
    }
   ],
   "source": [
    "# version 1: all zeros (dicuss calculation of coverage prob)\n",
    "summary_MI(dir_home='/panfs/panfs1.ucsd.edu/panscratch/lij014/Oct_2020_mfpca/simulations', \n",
    "           file_dir='/cov_prob_est/cov_prob_est_all_R_v0_totalSims1000.Rdata', R_ver=0)"
   ]
  },
  {
   "cell_type": "code",
   "execution_count": 3,
   "metadata": {},
   "outputs": [
    {
     "data": {
      "text/html": [
       "<table>\n",
       "<caption>A data.frame: 12 × 5</caption>\n",
       "<thead>\n",
       "\t<tr><th></th><th scope=col>Truth</th><th scope=col>Median</th><th scope=col>Q025</th><th scope=col>Q975</th><th scope=col>Cov_prob</th></tr>\n",
       "\t<tr><th></th><th scope=col>&lt;dbl&gt;</th><th scope=col>&lt;dbl&gt;</th><th scope=col>&lt;dbl&gt;</th><th scope=col>&lt;dbl&gt;</th><th scope=col>&lt;dbl&gt;</th></tr>\n",
       "</thead>\n",
       "<tbody>\n",
       "\t<tr><th scope=row>MI_12</th><td>0.000</td><td>0.037</td><td>0.007</td><td>0.099</td><td>1.000</td></tr>\n",
       "\t<tr><th scope=row>MI_13</th><td>0.000</td><td>0.016</td><td>0.001</td><td>0.063</td><td>1.000</td></tr>\n",
       "\t<tr><th scope=row>MI_23</th><td>0.413</td><td>0.422</td><td>0.280</td><td>0.581</td><td>0.959</td></tr>\n",
       "\t<tr><th scope=row>CMI_12</th><td>0.000</td><td>0.037</td><td>0.007</td><td>0.100</td><td>1.000</td></tr>\n",
       "\t<tr><th scope=row>CMI_13</th><td>0.000</td><td>0.017</td><td>0.001</td><td>0.064</td><td>1.000</td></tr>\n",
       "\t<tr><th scope=row>CMI_23</th><td>0.413</td><td>0.422</td><td>0.281</td><td>0.581</td><td>0.951</td></tr>\n",
       "\t<tr><th scope=row>norm_MI_12</th><td>0.000</td><td>0.261</td><td>0.114</td><td>0.420</td><td>1.000</td></tr>\n",
       "\t<tr><th scope=row>norm_MI_13</th><td>0.000</td><td>0.171</td><td>0.040</td><td>0.339</td><td>1.000</td></tr>\n",
       "\t<tr><th scope=row>norm_MI_23</th><td>0.750</td><td>0.751</td><td>0.649</td><td>0.826</td><td>0.960</td></tr>\n",
       "\t<tr><th scope=row>norm_CMI_12</th><td>0.000</td><td>0.263</td><td>0.115</td><td>0.422</td><td>1.000</td></tr>\n",
       "\t<tr><th scope=row>norm_CMI_13</th><td>0.000</td><td>0.174</td><td>0.042</td><td>0.343</td><td>1.000</td></tr>\n",
       "\t<tr><th scope=row>norm_CMI_23</th><td>0.750</td><td>0.751</td><td>0.650</td><td>0.826</td><td>0.951</td></tr>\n",
       "</tbody>\n",
       "</table>\n"
      ],
      "text/latex": [
       "A data.frame: 12 × 5\n",
       "\\begin{tabular}{r|lllll}\n",
       "  & Truth & Median & Q025 & Q975 & Cov\\_prob\\\\\n",
       "  & <dbl> & <dbl> & <dbl> & <dbl> & <dbl>\\\\\n",
       "\\hline\n",
       "\tMI\\_12 & 0.000 & 0.037 & 0.007 & 0.099 & 1.000\\\\\n",
       "\tMI\\_13 & 0.000 & 0.016 & 0.001 & 0.063 & 1.000\\\\\n",
       "\tMI\\_23 & 0.413 & 0.422 & 0.280 & 0.581 & 0.959\\\\\n",
       "\tCMI\\_12 & 0.000 & 0.037 & 0.007 & 0.100 & 1.000\\\\\n",
       "\tCMI\\_13 & 0.000 & 0.017 & 0.001 & 0.064 & 1.000\\\\\n",
       "\tCMI\\_23 & 0.413 & 0.422 & 0.281 & 0.581 & 0.951\\\\\n",
       "\tnorm\\_MI\\_12 & 0.000 & 0.261 & 0.114 & 0.420 & 1.000\\\\\n",
       "\tnorm\\_MI\\_13 & 0.000 & 0.171 & 0.040 & 0.339 & 1.000\\\\\n",
       "\tnorm\\_MI\\_23 & 0.750 & 0.751 & 0.649 & 0.826 & 0.960\\\\\n",
       "\tnorm\\_CMI\\_12 & 0.000 & 0.263 & 0.115 & 0.422 & 1.000\\\\\n",
       "\tnorm\\_CMI\\_13 & 0.000 & 0.174 & 0.042 & 0.343 & 1.000\\\\\n",
       "\tnorm\\_CMI\\_23 & 0.750 & 0.751 & 0.650 & 0.826 & 0.951\\\\\n",
       "\\end{tabular}\n"
      ],
      "text/markdown": [
       "\n",
       "A data.frame: 12 × 5\n",
       "\n",
       "| <!--/--> | Truth &lt;dbl&gt; | Median &lt;dbl&gt; | Q025 &lt;dbl&gt; | Q975 &lt;dbl&gt; | Cov_prob &lt;dbl&gt; |\n",
       "|---|---|---|---|---|---|\n",
       "| MI_12 | 0.000 | 0.037 | 0.007 | 0.099 | 1.000 |\n",
       "| MI_13 | 0.000 | 0.016 | 0.001 | 0.063 | 1.000 |\n",
       "| MI_23 | 0.413 | 0.422 | 0.280 | 0.581 | 0.959 |\n",
       "| CMI_12 | 0.000 | 0.037 | 0.007 | 0.100 | 1.000 |\n",
       "| CMI_13 | 0.000 | 0.017 | 0.001 | 0.064 | 1.000 |\n",
       "| CMI_23 | 0.413 | 0.422 | 0.281 | 0.581 | 0.951 |\n",
       "| norm_MI_12 | 0.000 | 0.261 | 0.114 | 0.420 | 1.000 |\n",
       "| norm_MI_13 | 0.000 | 0.171 | 0.040 | 0.339 | 1.000 |\n",
       "| norm_MI_23 | 0.750 | 0.751 | 0.649 | 0.826 | 0.960 |\n",
       "| norm_CMI_12 | 0.000 | 0.263 | 0.115 | 0.422 | 1.000 |\n",
       "| norm_CMI_13 | 0.000 | 0.174 | 0.042 | 0.343 | 1.000 |\n",
       "| norm_CMI_23 | 0.750 | 0.751 | 0.650 | 0.826 | 0.951 |\n",
       "\n"
      ],
      "text/plain": [
       "            Truth Median Q025  Q975  Cov_prob\n",
       "MI_12       0.000 0.037  0.007 0.099 1.000   \n",
       "MI_13       0.000 0.016  0.001 0.063 1.000   \n",
       "MI_23       0.413 0.422  0.280 0.581 0.959   \n",
       "CMI_12      0.000 0.037  0.007 0.100 1.000   \n",
       "CMI_13      0.000 0.017  0.001 0.064 1.000   \n",
       "CMI_23      0.413 0.422  0.281 0.581 0.951   \n",
       "norm_MI_12  0.000 0.261  0.114 0.420 1.000   \n",
       "norm_MI_13  0.000 0.171  0.040 0.339 1.000   \n",
       "norm_MI_23  0.750 0.751  0.649 0.826 0.960   \n",
       "norm_CMI_12 0.000 0.263  0.115 0.422 1.000   \n",
       "norm_CMI_13 0.000 0.174  0.042 0.343 1.000   \n",
       "norm_CMI_23 0.750 0.751  0.650 0.826 0.951   "
      ]
     },
     "metadata": {},
     "output_type": "display_data"
    }
   ],
   "source": [
    "# verion 2: two zeros\n",
    "summary_MI(dir_home='/panfs/panfs1.ucsd.edu/panscratch/lij014/Oct_2020_mfpca/simulations', \n",
    "           file_dir='/cov_prob_est/cov_prob_est_all_R_v1_totalSims1000.Rdata', R_ver=1)"
   ]
  },
  {
   "cell_type": "code",
   "execution_count": 4,
   "metadata": {},
   "outputs": [
    {
     "data": {
      "text/html": [
       "<table>\n",
       "<caption>A data.frame: 12 × 5</caption>\n",
       "<thead>\n",
       "\t<tr><th></th><th scope=col>Truth</th><th scope=col>Median</th><th scope=col>Q025</th><th scope=col>Q975</th><th scope=col>Cov_prob</th></tr>\n",
       "\t<tr><th></th><th scope=col>&lt;dbl&gt;</th><th scope=col>&lt;dbl&gt;</th><th scope=col>&lt;dbl&gt;</th><th scope=col>&lt;dbl&gt;</th><th scope=col>&lt;dbl&gt;</th></tr>\n",
       "</thead>\n",
       "<tbody>\n",
       "\t<tr><th scope=row>MI_12</th><td>0.144</td><td>0.177</td><td>0.086</td><td>0.297</td><td>0.914</td></tr>\n",
       "\t<tr><th scope=row>MI_13</th><td>0.000</td><td>0.016</td><td>0.001</td><td>0.064</td><td>1.000</td></tr>\n",
       "\t<tr><th scope=row>MI_23</th><td>0.413</td><td>0.425</td><td>0.283</td><td>0.584</td><td>0.962</td></tr>\n",
       "\t<tr><th scope=row>CMI_12</th><td>0.424</td><td>0.456</td><td>0.311</td><td>0.619</td><td>0.944</td></tr>\n",
       "\t<tr><th scope=row>CMI_13</th><td>0.280</td><td>0.295</td><td>0.174</td><td>0.438</td><td>0.954</td></tr>\n",
       "\t<tr><th scope=row>CMI_23</th><td>0.693</td><td>0.703</td><td>0.534</td><td>0.882</td><td>0.960</td></tr>\n",
       "\t<tr><th scope=row>norm_MI_12</th><td>0.500</td><td>0.538</td><td>0.387</td><td>0.663</td><td>0.915</td></tr>\n",
       "\t<tr><th scope=row>norm_MI_13</th><td>0.000</td><td>0.172</td><td>0.041</td><td>0.341</td><td>1.000</td></tr>\n",
       "\t<tr><th scope=row>norm_MI_23</th><td>0.750</td><td>0.752</td><td>0.651</td><td>0.827</td><td>0.962</td></tr>\n",
       "\t<tr><th scope=row>norm_CMI_12</th><td>0.756</td><td>0.769</td><td>0.675</td><td>0.840</td><td>0.943</td></tr>\n",
       "\t<tr><th scope=row>norm_CMI_13</th><td>0.655</td><td>0.661</td><td>0.534</td><td>0.760</td><td>0.954</td></tr>\n",
       "\t<tr><th scope=row>norm_CMI_23</th><td>0.866</td><td>0.866</td><td>0.806</td><td>0.909</td><td>0.959</td></tr>\n",
       "</tbody>\n",
       "</table>\n"
      ],
      "text/latex": [
       "A data.frame: 12 × 5\n",
       "\\begin{tabular}{r|lllll}\n",
       "  & Truth & Median & Q025 & Q975 & Cov\\_prob\\\\\n",
       "  & <dbl> & <dbl> & <dbl> & <dbl> & <dbl>\\\\\n",
       "\\hline\n",
       "\tMI\\_12 & 0.144 & 0.177 & 0.086 & 0.297 & 0.914\\\\\n",
       "\tMI\\_13 & 0.000 & 0.016 & 0.001 & 0.064 & 1.000\\\\\n",
       "\tMI\\_23 & 0.413 & 0.425 & 0.283 & 0.584 & 0.962\\\\\n",
       "\tCMI\\_12 & 0.424 & 0.456 & 0.311 & 0.619 & 0.944\\\\\n",
       "\tCMI\\_13 & 0.280 & 0.295 & 0.174 & 0.438 & 0.954\\\\\n",
       "\tCMI\\_23 & 0.693 & 0.703 & 0.534 & 0.882 & 0.960\\\\\n",
       "\tnorm\\_MI\\_12 & 0.500 & 0.538 & 0.387 & 0.663 & 0.915\\\\\n",
       "\tnorm\\_MI\\_13 & 0.000 & 0.172 & 0.041 & 0.341 & 1.000\\\\\n",
       "\tnorm\\_MI\\_23 & 0.750 & 0.752 & 0.651 & 0.827 & 0.962\\\\\n",
       "\tnorm\\_CMI\\_12 & 0.756 & 0.769 & 0.675 & 0.840 & 0.943\\\\\n",
       "\tnorm\\_CMI\\_13 & 0.655 & 0.661 & 0.534 & 0.760 & 0.954\\\\\n",
       "\tnorm\\_CMI\\_23 & 0.866 & 0.866 & 0.806 & 0.909 & 0.959\\\\\n",
       "\\end{tabular}\n"
      ],
      "text/markdown": [
       "\n",
       "A data.frame: 12 × 5\n",
       "\n",
       "| <!--/--> | Truth &lt;dbl&gt; | Median &lt;dbl&gt; | Q025 &lt;dbl&gt; | Q975 &lt;dbl&gt; | Cov_prob &lt;dbl&gt; |\n",
       "|---|---|---|---|---|---|\n",
       "| MI_12 | 0.144 | 0.177 | 0.086 | 0.297 | 0.914 |\n",
       "| MI_13 | 0.000 | 0.016 | 0.001 | 0.064 | 1.000 |\n",
       "| MI_23 | 0.413 | 0.425 | 0.283 | 0.584 | 0.962 |\n",
       "| CMI_12 | 0.424 | 0.456 | 0.311 | 0.619 | 0.944 |\n",
       "| CMI_13 | 0.280 | 0.295 | 0.174 | 0.438 | 0.954 |\n",
       "| CMI_23 | 0.693 | 0.703 | 0.534 | 0.882 | 0.960 |\n",
       "| norm_MI_12 | 0.500 | 0.538 | 0.387 | 0.663 | 0.915 |\n",
       "| norm_MI_13 | 0.000 | 0.172 | 0.041 | 0.341 | 1.000 |\n",
       "| norm_MI_23 | 0.750 | 0.752 | 0.651 | 0.827 | 0.962 |\n",
       "| norm_CMI_12 | 0.756 | 0.769 | 0.675 | 0.840 | 0.943 |\n",
       "| norm_CMI_13 | 0.655 | 0.661 | 0.534 | 0.760 | 0.954 |\n",
       "| norm_CMI_23 | 0.866 | 0.866 | 0.806 | 0.909 | 0.959 |\n",
       "\n"
      ],
      "text/plain": [
       "            Truth Median Q025  Q975  Cov_prob\n",
       "MI_12       0.144 0.177  0.086 0.297 0.914   \n",
       "MI_13       0.000 0.016  0.001 0.064 1.000   \n",
       "MI_23       0.413 0.425  0.283 0.584 0.962   \n",
       "CMI_12      0.424 0.456  0.311 0.619 0.944   \n",
       "CMI_13      0.280 0.295  0.174 0.438 0.954   \n",
       "CMI_23      0.693 0.703  0.534 0.882 0.960   \n",
       "norm_MI_12  0.500 0.538  0.387 0.663 0.915   \n",
       "norm_MI_13  0.000 0.172  0.041 0.341 1.000   \n",
       "norm_MI_23  0.750 0.752  0.651 0.827 0.962   \n",
       "norm_CMI_12 0.756 0.769  0.675 0.840 0.943   \n",
       "norm_CMI_13 0.655 0.661  0.534 0.760 0.954   \n",
       "norm_CMI_23 0.866 0.866  0.806 0.909 0.959   "
      ]
     },
     "metadata": {},
     "output_type": "display_data"
    }
   ],
   "source": [
    "# version 3: all non-zeros\n",
    "summary_MI(dir_home='/panfs/panfs1.ucsd.edu/panscratch/lij014/Oct_2020_mfpca/simulations', \n",
    "           file_dir='/cov_prob_est/cov_prob_est_all_R_v2_totalSims1000.Rdata', R_ver=2)"
   ]
  },
  {
   "cell_type": "code",
   "execution_count": 5,
   "metadata": {},
   "outputs": [
    {
     "data": {
      "text/html": [
       "<table>\n",
       "<caption>A data.frame: 12 × 5</caption>\n",
       "<thead>\n",
       "\t<tr><th></th><th scope=col>Truth</th><th scope=col>Median</th><th scope=col>Q025</th><th scope=col>Q975</th><th scope=col>Cov_prob</th></tr>\n",
       "\t<tr><th></th><th scope=col>&lt;dbl&gt;</th><th scope=col>&lt;dbl&gt;</th><th scope=col>&lt;dbl&gt;</th><th scope=col>&lt;dbl&gt;</th><th scope=col>&lt;dbl&gt;</th></tr>\n",
       "</thead>\n",
       "<tbody>\n",
       "\t<tr><th scope=row>MI_12</th><td>0.144</td><td>0.174</td><td>0.084</td><td>0.294</td><td>0.941</td></tr>\n",
       "\t<tr><th scope=row>MI_13</th><td>0.032</td><td>0.049</td><td>0.010</td><td>0.121</td><td>0.942</td></tr>\n",
       "\t<tr><th scope=row>MI_23</th><td>0.413</td><td>0.430</td><td>0.288</td><td>0.589</td><td>0.930</td></tr>\n",
       "\t<tr><th scope=row>CMI_12</th><td>0.535</td><td>0.561</td><td>0.404</td><td>0.733</td><td>0.946</td></tr>\n",
       "\t<tr><th scope=row>CMI_13</th><td>0.424</td><td>0.436</td><td>0.293</td><td>0.596</td><td>0.949</td></tr>\n",
       "\t<tr><th scope=row>CMI_23</th><td>0.805</td><td>0.816</td><td>0.639</td><td>1.000</td><td>0.951</td></tr>\n",
       "\t<tr><th scope=row>norm_MI_12</th><td>0.500</td><td>0.535</td><td>0.383</td><td>0.661</td><td>0.942</td></tr>\n",
       "\t<tr><th scope=row>norm_MI_13</th><td>0.250</td><td>0.291</td><td>0.123</td><td>0.455</td><td>0.942</td></tr>\n",
       "\t<tr><th scope=row>norm_MI_23</th><td>0.750</td><td>0.754</td><td>0.655</td><td>0.829</td><td>0.930</td></tr>\n",
       "\t<tr><th scope=row>norm_CMI_12</th><td>0.811</td><td>0.818</td><td>0.739</td><td>0.875</td><td>0.945</td></tr>\n",
       "\t<tr><th scope=row>norm_CMI_13</th><td>0.756</td><td>0.758</td><td>0.659</td><td>0.831</td><td>0.949</td></tr>\n",
       "\t<tr><th scope=row>norm_CMI_23</th><td>0.894</td><td>0.895</td><td>0.847</td><td>0.929</td><td>0.950</td></tr>\n",
       "</tbody>\n",
       "</table>\n"
      ],
      "text/latex": [
       "A data.frame: 12 × 5\n",
       "\\begin{tabular}{r|lllll}\n",
       "  & Truth & Median & Q025 & Q975 & Cov\\_prob\\\\\n",
       "  & <dbl> & <dbl> & <dbl> & <dbl> & <dbl>\\\\\n",
       "\\hline\n",
       "\tMI\\_12 & 0.144 & 0.174 & 0.084 & 0.294 & 0.941\\\\\n",
       "\tMI\\_13 & 0.032 & 0.049 & 0.010 & 0.121 & 0.942\\\\\n",
       "\tMI\\_23 & 0.413 & 0.430 & 0.288 & 0.589 & 0.930\\\\\n",
       "\tCMI\\_12 & 0.535 & 0.561 & 0.404 & 0.733 & 0.946\\\\\n",
       "\tCMI\\_13 & 0.424 & 0.436 & 0.293 & 0.596 & 0.949\\\\\n",
       "\tCMI\\_23 & 0.805 & 0.816 & 0.639 & 1.000 & 0.951\\\\\n",
       "\tnorm\\_MI\\_12 & 0.500 & 0.535 & 0.383 & 0.661 & 0.942\\\\\n",
       "\tnorm\\_MI\\_13 & 0.250 & 0.291 & 0.123 & 0.455 & 0.942\\\\\n",
       "\tnorm\\_MI\\_23 & 0.750 & 0.754 & 0.655 & 0.829 & 0.930\\\\\n",
       "\tnorm\\_CMI\\_12 & 0.811 & 0.818 & 0.739 & 0.875 & 0.945\\\\\n",
       "\tnorm\\_CMI\\_13 & 0.756 & 0.758 & 0.659 & 0.831 & 0.949\\\\\n",
       "\tnorm\\_CMI\\_23 & 0.894 & 0.895 & 0.847 & 0.929 & 0.950\\\\\n",
       "\\end{tabular}\n"
      ],
      "text/markdown": [
       "\n",
       "A data.frame: 12 × 5\n",
       "\n",
       "| <!--/--> | Truth &lt;dbl&gt; | Median &lt;dbl&gt; | Q025 &lt;dbl&gt; | Q975 &lt;dbl&gt; | Cov_prob &lt;dbl&gt; |\n",
       "|---|---|---|---|---|---|\n",
       "| MI_12 | 0.144 | 0.174 | 0.084 | 0.294 | 0.941 |\n",
       "| MI_13 | 0.032 | 0.049 | 0.010 | 0.121 | 0.942 |\n",
       "| MI_23 | 0.413 | 0.430 | 0.288 | 0.589 | 0.930 |\n",
       "| CMI_12 | 0.535 | 0.561 | 0.404 | 0.733 | 0.946 |\n",
       "| CMI_13 | 0.424 | 0.436 | 0.293 | 0.596 | 0.949 |\n",
       "| CMI_23 | 0.805 | 0.816 | 0.639 | 1.000 | 0.951 |\n",
       "| norm_MI_12 | 0.500 | 0.535 | 0.383 | 0.661 | 0.942 |\n",
       "| norm_MI_13 | 0.250 | 0.291 | 0.123 | 0.455 | 0.942 |\n",
       "| norm_MI_23 | 0.750 | 0.754 | 0.655 | 0.829 | 0.930 |\n",
       "| norm_CMI_12 | 0.811 | 0.818 | 0.739 | 0.875 | 0.945 |\n",
       "| norm_CMI_13 | 0.756 | 0.758 | 0.659 | 0.831 | 0.949 |\n",
       "| norm_CMI_23 | 0.894 | 0.895 | 0.847 | 0.929 | 0.950 |\n",
       "\n"
      ],
      "text/plain": [
       "            Truth Median Q025  Q975  Cov_prob\n",
       "MI_12       0.144 0.174  0.084 0.294 0.941   \n",
       "MI_13       0.032 0.049  0.010 0.121 0.942   \n",
       "MI_23       0.413 0.430  0.288 0.589 0.930   \n",
       "CMI_12      0.535 0.561  0.404 0.733 0.946   \n",
       "CMI_13      0.424 0.436  0.293 0.596 0.949   \n",
       "CMI_23      0.805 0.816  0.639 1.000 0.951   \n",
       "norm_MI_12  0.500 0.535  0.383 0.661 0.942   \n",
       "norm_MI_13  0.250 0.291  0.123 0.455 0.942   \n",
       "norm_MI_23  0.750 0.754  0.655 0.829 0.930   \n",
       "norm_CMI_12 0.811 0.818  0.739 0.875 0.945   \n",
       "norm_CMI_13 0.756 0.758  0.659 0.831 0.949   \n",
       "norm_CMI_23 0.894 0.895  0.847 0.929 0.950   "
      ]
     },
     "metadata": {},
     "output_type": "display_data"
    }
   ],
   "source": [
    "# version 4: all nonzero MIs\n",
    "summary_MI(dir_home='/panfs/panfs1.ucsd.edu/panscratch/lij014/Oct_2020_mfpca/simulations', \n",
    "           file_dir='/cov_prob_est/cov_prob_est_all_R_v3_totalSims1000.Rdata', R_ver=3)"
   ]
  },
  {
   "cell_type": "code",
   "execution_count": null,
   "metadata": {},
   "outputs": [],
   "source": []
  }
 ],
 "metadata": {
  "kernelspec": {
   "display_name": "R_3.6.1",
   "language": "R",
   "name": "ir361"
  },
  "language_info": {
   "codemirror_mode": "r",
   "file_extension": ".r",
   "mimetype": "text/x-r-source",
   "name": "R",
   "pygments_lexer": "r",
   "version": "3.6.1"
  }
 },
 "nbformat": 4,
 "nbformat_minor": 2
}
